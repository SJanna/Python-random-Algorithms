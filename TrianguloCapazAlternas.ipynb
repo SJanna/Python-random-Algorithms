{
  "nbformat": 4,
  "nbformat_minor": 0,
  "metadata": {
    "colab": {
      "provenance": [],
      "authorship_tag": "ABX9TyOu7upF+s0rUly75BciDAIz",
      "include_colab_link": true
    },
    "kernelspec": {
      "name": "python3",
      "display_name": "Python 3"
    },
    "language_info": {
      "name": "python"
    }
  },
  "cells": [
    {
      "cell_type": "markdown",
      "metadata": {
        "id": "view-in-github",
        "colab_type": "text"
      },
      "source": [
        "<a href=\"https://colab.research.google.com/github/SJanna/Python-random-Algorithms/blob/main/TrianguloCapazAlternas.ipynb\" target=\"_parent\"><img src=\"https://colab.research.google.com/assets/colab-badge.svg\" alt=\"Open In Colab\"/></a>"
      ]
    },
    {
      "cell_type": "markdown",
      "source": [
        "# Triángulo Capas Alternas\n",
        "Funciones recursivas 2D"
      ],
      "metadata": {
        "id": "jJPsU11BZGzp"
      }
    },
    {
      "cell_type": "code",
      "execution_count": 6,
      "metadata": {
        "colab": {
          "base_uri": "https://localhost:8080/"
        },
        "id": "7u83ApBVZBXO",
        "outputId": "de0938f8-5203-49f7-ad58-29e5174fc737"
      },
      "outputs": [
        {
          "output_type": "stream",
          "name": "stdout",
          "text": [
            "nf = 21\n",
            "                                           1\n",
            "                                       2  40\n",
            "                                   3  57  39\n",
            "                               4  56  58  38\n",
            "                           5  55  73  59  37\n",
            "                       6  54  74  96  60  36\n",
            "                   7  53  75 105  95  61  35\n",
            "               8  52  76 104 106  94  62  34\n",
            "           9  51  77 103 113 107  93  63  33\n",
            "      10  50  78 102 114 120 108  92  64  32\n",
            "  11  49  79 101 115 121 119 109  91  65  31\n",
            "      12  48  80 100 116 118 110  90  66  30\n",
            "          13  47  81  99 117 111  89  67  29\n",
            "              14  46  82  98 112  88  68  28\n",
            "                  15  45  83  97  87  69  27\n",
            "                      16  44  84  86  70  26\n",
            "                          17  43  85  71  25\n",
            "                              18  42  72  24\n",
            "                                  19  41  23\n",
            "                                      20  22\n",
            "                                          21\n"
          ]
        }
      ],
      "source": [
        "import numpy as np\n",
        "def flipud(i):\n",
        "  return nf-(i+1)\n",
        "def funcion_recursiva(i,j,k):\n",
        "        RC[i][j] = k\n",
        "        jv = j - abs(iv - i)\n",
        "        if (i == nf // 2 and j == nc // 2):\n",
        "            return RC\n",
        "        elif j%2==0 and i==v and j<v/2 and jv%2==0:\n",
        "            funcion_recursiva(i+1,j+1,k+1)\n",
        "        elif i>v and j%2==0 and (j+i)%3==0 and (nf-i)%2==1 and (nc-j)%2==1 and (j-i)%2==0 and (i-v)%2==0 and (i+j)%2==0 and j>v/2 and jv%2==0 and jv==nc-1-j: \n",
        "            funcion_recursiva(i-1,j,k+1)\n",
        "        elif i<v and (nf-i)/2==j and i%2==1 and jv%2==1 and jv==(nc-1)-j+1:  \n",
        "            funcion_recursiva(flipud(i)-1,j-1,k+1)\n",
        "        elif i==v and j%2==1 and j<v/2 and jv%2==1:      \n",
        "            funcion_recursiva(i-1,j+1,k+1)\n",
        "        elif i<v and j%2==1 and jv%2==1 and jv==nc-1-j: \n",
        "            funcion_recursiva(i+1,j,k+1)\n",
        "        elif i>v and j%2==1 and i%2==1 and (nf-i)%4==0 and (i+j)%2==0 and (i-v)%2==1 and (i-j)%2==0 and jv%2==0 and jv==nc-1-j+1 :\n",
        "            funcion_recursiva(flipud(i)+1,j-1,k+1)\n",
        "        else:\n",
        "            if j==abs(iv-i)+jv and i<v and jv%2==0 and j>jv and nc-j>jv: #DS BAJANDO\n",
        "                funcion_recursiva(i+1,j-1,k+1)\n",
        "            elif j==abs(iv-i)+jv and i>v and jv%2==0 and nc-j-1>jv: #DP BAJANDO\n",
        "                funcion_recursiva(i+1,j+1,k+1)\n",
        "            elif j==abs(iv-i)+jv and i>v and jv%2==1 and nc-j>jv: #DP SUBIENDO\n",
        "                funcion_recursiva(i-1,j-1,k+1)\n",
        "            elif j==abs(iv-i)+jv and i<v and jv%2==1 and nc-j-1>jv: #DS SUBIENDO\n",
        "                funcion_recursiva(i-1,j+1,k+1)\n",
        "            elif j%2==0: #SUBE\n",
        "                funcion_recursiva(i-1,j,k+1)\n",
        "            elif j%2==1: #BAJA\n",
        "                funcion_recursiva(i+1,j,k+1)\n",
        "nf = int(input(\"nf = \"))\n",
        "nc=int((nf+1)/2)\n",
        "v = nc - 1\n",
        "iv=v\n",
        "RC = np.zeros((nf, nc))\n",
        "funcion_recursiva(0, nc - 1, 1)\n",
        "# Imprimir\n",
        "print('\\n'.join([''.join(['{:4}'.format(int(item) if item != 0 else '') \n",
        "                    for item in row]) for row in RC]))"
      ]
    }
  ]
}